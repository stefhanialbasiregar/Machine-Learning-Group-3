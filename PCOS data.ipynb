{
 "cells": [
  {
   "cell_type": "code",
   "execution_count": 4,
   "id": "6e19ea6a",
   "metadata": {},
   "outputs": [],
   "source": [
    "import numpy as np\n",
    "import pandas as pd\n",
    "import matplotlib.pyplot as plt\n",
    "from sklearn.linear_model import LogisticRegression\n",
    "from sklearn.datasets import make_classification\n",
    "from sklearn.model_selection import train_test_split\n",
    "from sklearn import datasets"
   ]
  },
  {
   "cell_type": "code",
   "execution_count": 13,
   "id": "27693e22",
   "metadata": {},
   "outputs": [],
   "source": [
    "df = pd.read_excel(r'D:\\coolyeah\\sem6\\pembelajaran mesin\\PCOS_data_without_infertility.xlsx')"
   ]
  },
  {
   "cell_type": "code",
   "execution_count": 14,
   "id": "8cc55335",
   "metadata": {},
   "outputs": [
    {
     "name": "stdout",
     "output_type": "stream",
     "text": [
      "<class 'pandas.core.frame.DataFrame'>\n",
      "RangeIndex: 541 entries, 0 to 540\n",
      "Data columns (total 43 columns):\n",
      " #   Column                  Non-Null Count  Dtype  \n",
      "---  ------                  --------------  -----  \n",
      " 0   PCOS (Y/N)              541 non-null    int64  \n",
      " 1    Age (yrs)              541 non-null    int64  \n",
      " 2   Weight (Kg)             541 non-null    float64\n",
      " 3   Height(Cm)              541 non-null    float64\n",
      " 4   BMI                     242 non-null    float64\n",
      " 5   Blood Group             541 non-null    int64  \n",
      " 6   Pulse rate(bpm)         541 non-null    int64  \n",
      " 7   RR (breaths/min)        541 non-null    int64  \n",
      " 8   Hb(g/dl)                541 non-null    float64\n",
      " 9   Cycle(R/I)              541 non-null    int64  \n",
      " 10  Cycle length(days)      541 non-null    int64  \n",
      " 11  Marraige Status (Yrs)   540 non-null    float64\n",
      " 12  Pregnant(Y/N)           541 non-null    int64  \n",
      " 13  No. of aborptions       541 non-null    int64  \n",
      " 14    I   beta-HCG(mIU/mL)  541 non-null    float64\n",
      " 15  II    beta-HCG(mIU/mL)  541 non-null    object \n",
      " 16  FSH(mIU/mL)             541 non-null    float64\n",
      " 17  LH(mIU/mL)              541 non-null    float64\n",
      " 18  FSH/LH                  9 non-null      float64\n",
      " 19  Hip(inch)               541 non-null    int64  \n",
      " 20  Waist(inch)             541 non-null    int64  \n",
      " 21  Waist:Hip Ratio         9 non-null      float64\n",
      " 22  TSH (mIU/L)             541 non-null    float64\n",
      " 23  AMH(ng/mL)              541 non-null    object \n",
      " 24  PRL(ng/mL)              541 non-null    float64\n",
      " 25  Vit D3 (ng/mL)          541 non-null    float64\n",
      " 26  PRG(ng/mL)              541 non-null    float64\n",
      " 27  RBS(mg/dl)              541 non-null    float64\n",
      " 28  Weight gain(Y/N)        541 non-null    int64  \n",
      " 29  hair growth(Y/N)        541 non-null    int64  \n",
      " 30  Skin darkening (Y/N)    541 non-null    int64  \n",
      " 31  Hair loss(Y/N)          541 non-null    int64  \n",
      " 32  Pimples(Y/N)            541 non-null    int64  \n",
      " 33  Fast food (Y/N)         540 non-null    float64\n",
      " 34  Reg.Exercise(Y/N)       541 non-null    int64  \n",
      " 35  BP _Systolic (mmHg)     541 non-null    int64  \n",
      " 36  BP _Diastolic (mmHg)    541 non-null    int64  \n",
      " 37  Follicle No. (L)        541 non-null    int64  \n",
      " 38  Follicle No. (R)        541 non-null    int64  \n",
      " 39  Avg. F size (L) (mm)    541 non-null    float64\n",
      " 40  Avg. F size (R) (mm)    541 non-null    float64\n",
      " 41  Endometrium (mm)        541 non-null    float64\n",
      " 42  Unnamed: 42             2 non-null      object \n",
      "dtypes: float64(19), int64(21), object(3)\n",
      "memory usage: 181.9+ KB\n"
     ]
    }
   ],
   "source": [
    "df.info()"
   ]
  },
  {
   "cell_type": "code",
   "execution_count": 16,
   "id": "75e8a709",
   "metadata": {},
   "outputs": [],
   "source": [
    "df[\"AMH(ng/mL)\"] = pd.to_numeric(df[\"AMH(ng/mL)\"], errors=\"coerce\") #converting object datatype to numeric\n",
    "df[\"II    beta-HCG(mIU/mL)\"] = pd.to_numeric(df[\"II    beta-HCG(mIU/mL)\"], errors=\"coerce\") #converting object datatypeTonumeric"
   ]
  },
  {
   "cell_type": "code",
   "execution_count": 17,
   "id": "c941c558",
   "metadata": {},
   "outputs": [],
   "source": [
    "df = df.rename(columns=lambda x: x.strip()) #trimming column names where there are extra spaces at start and end"
   ]
  },
  {
   "cell_type": "code",
   "execution_count": 18,
   "id": "fe365530",
   "metadata": {},
   "outputs": [
    {
     "data": {
      "text/html": [
       "<div>\n",
       "<style scoped>\n",
       "    .dataframe tbody tr th:only-of-type {\n",
       "        vertical-align: middle;\n",
       "    }\n",
       "\n",
       "    .dataframe tbody tr th {\n",
       "        vertical-align: top;\n",
       "    }\n",
       "\n",
       "    .dataframe thead th {\n",
       "        text-align: right;\n",
       "    }\n",
       "</style>\n",
       "<table border=\"1\" class=\"dataframe\">\n",
       "  <thead>\n",
       "    <tr style=\"text-align: right;\">\n",
       "      <th></th>\n",
       "      <th>PCOS (Y/N)</th>\n",
       "      <th>Age (yrs)</th>\n",
       "      <th>Weight (Kg)</th>\n",
       "      <th>Height(Cm)</th>\n",
       "      <th>BMI</th>\n",
       "      <th>Blood Group</th>\n",
       "      <th>Pulse rate(bpm)</th>\n",
       "      <th>RR (breaths/min)</th>\n",
       "      <th>Hb(g/dl)</th>\n",
       "      <th>Cycle(R/I)</th>\n",
       "      <th>...</th>\n",
       "      <th>Fast food (Y/N)</th>\n",
       "      <th>Reg.Exercise(Y/N)</th>\n",
       "      <th>BP _Systolic (mmHg)</th>\n",
       "      <th>BP _Diastolic (mmHg)</th>\n",
       "      <th>Follicle No. (L)</th>\n",
       "      <th>Follicle No. (R)</th>\n",
       "      <th>Avg. F size (L) (mm)</th>\n",
       "      <th>Avg. F size (R) (mm)</th>\n",
       "      <th>Endometrium (mm)</th>\n",
       "      <th>Unnamed: 42</th>\n",
       "    </tr>\n",
       "  </thead>\n",
       "  <tbody>\n",
       "    <tr>\n",
       "      <th>0</th>\n",
       "      <td>0</td>\n",
       "      <td>28</td>\n",
       "      <td>44.6</td>\n",
       "      <td>152.0</td>\n",
       "      <td>19.3</td>\n",
       "      <td>15</td>\n",
       "      <td>78</td>\n",
       "      <td>22</td>\n",
       "      <td>10.48</td>\n",
       "      <td>2</td>\n",
       "      <td>...</td>\n",
       "      <td>1.0</td>\n",
       "      <td>0</td>\n",
       "      <td>110</td>\n",
       "      <td>80</td>\n",
       "      <td>3</td>\n",
       "      <td>3</td>\n",
       "      <td>18.0</td>\n",
       "      <td>18.0</td>\n",
       "      <td>8.5</td>\n",
       "      <td>NaN</td>\n",
       "    </tr>\n",
       "    <tr>\n",
       "      <th>1</th>\n",
       "      <td>0</td>\n",
       "      <td>36</td>\n",
       "      <td>65.0</td>\n",
       "      <td>161.5</td>\n",
       "      <td>NaN</td>\n",
       "      <td>15</td>\n",
       "      <td>74</td>\n",
       "      <td>20</td>\n",
       "      <td>11.70</td>\n",
       "      <td>2</td>\n",
       "      <td>...</td>\n",
       "      <td>0.0</td>\n",
       "      <td>0</td>\n",
       "      <td>120</td>\n",
       "      <td>70</td>\n",
       "      <td>3</td>\n",
       "      <td>5</td>\n",
       "      <td>15.0</td>\n",
       "      <td>14.0</td>\n",
       "      <td>3.7</td>\n",
       "      <td>NaN</td>\n",
       "    </tr>\n",
       "    <tr>\n",
       "      <th>2</th>\n",
       "      <td>1</td>\n",
       "      <td>33</td>\n",
       "      <td>68.8</td>\n",
       "      <td>165.0</td>\n",
       "      <td>NaN</td>\n",
       "      <td>11</td>\n",
       "      <td>72</td>\n",
       "      <td>18</td>\n",
       "      <td>11.80</td>\n",
       "      <td>2</td>\n",
       "      <td>...</td>\n",
       "      <td>1.0</td>\n",
       "      <td>0</td>\n",
       "      <td>120</td>\n",
       "      <td>80</td>\n",
       "      <td>13</td>\n",
       "      <td>15</td>\n",
       "      <td>18.0</td>\n",
       "      <td>20.0</td>\n",
       "      <td>10.0</td>\n",
       "      <td>NaN</td>\n",
       "    </tr>\n",
       "    <tr>\n",
       "      <th>3</th>\n",
       "      <td>0</td>\n",
       "      <td>37</td>\n",
       "      <td>65.0</td>\n",
       "      <td>148.0</td>\n",
       "      <td>NaN</td>\n",
       "      <td>13</td>\n",
       "      <td>72</td>\n",
       "      <td>20</td>\n",
       "      <td>12.00</td>\n",
       "      <td>2</td>\n",
       "      <td>...</td>\n",
       "      <td>0.0</td>\n",
       "      <td>0</td>\n",
       "      <td>120</td>\n",
       "      <td>70</td>\n",
       "      <td>2</td>\n",
       "      <td>2</td>\n",
       "      <td>15.0</td>\n",
       "      <td>14.0</td>\n",
       "      <td>7.5</td>\n",
       "      <td>NaN</td>\n",
       "    </tr>\n",
       "    <tr>\n",
       "      <th>4</th>\n",
       "      <td>0</td>\n",
       "      <td>25</td>\n",
       "      <td>52.0</td>\n",
       "      <td>161.0</td>\n",
       "      <td>NaN</td>\n",
       "      <td>11</td>\n",
       "      <td>72</td>\n",
       "      <td>18</td>\n",
       "      <td>10.00</td>\n",
       "      <td>2</td>\n",
       "      <td>...</td>\n",
       "      <td>0.0</td>\n",
       "      <td>0</td>\n",
       "      <td>120</td>\n",
       "      <td>80</td>\n",
       "      <td>3</td>\n",
       "      <td>4</td>\n",
       "      <td>16.0</td>\n",
       "      <td>14.0</td>\n",
       "      <td>7.0</td>\n",
       "      <td>NaN</td>\n",
       "    </tr>\n",
       "  </tbody>\n",
       "</table>\n",
       "<p>5 rows × 43 columns</p>\n",
       "</div>"
      ],
      "text/plain": [
       "   PCOS (Y/N)  Age (yrs)  Weight (Kg)  Height(Cm)   BMI  Blood Group  \\\n",
       "0           0         28         44.6       152.0  19.3           15   \n",
       "1           0         36         65.0       161.5   NaN           15   \n",
       "2           1         33         68.8       165.0   NaN           11   \n",
       "3           0         37         65.0       148.0   NaN           13   \n",
       "4           0         25         52.0       161.0   NaN           11   \n",
       "\n",
       "   Pulse rate(bpm)  RR (breaths/min)  Hb(g/dl)  Cycle(R/I)  ...  \\\n",
       "0               78                22     10.48           2  ...   \n",
       "1               74                20     11.70           2  ...   \n",
       "2               72                18     11.80           2  ...   \n",
       "3               72                20     12.00           2  ...   \n",
       "4               72                18     10.00           2  ...   \n",
       "\n",
       "   Fast food (Y/N)  Reg.Exercise(Y/N)  BP _Systolic (mmHg)  \\\n",
       "0              1.0                  0                  110   \n",
       "1              0.0                  0                  120   \n",
       "2              1.0                  0                  120   \n",
       "3              0.0                  0                  120   \n",
       "4              0.0                  0                  120   \n",
       "\n",
       "   BP _Diastolic (mmHg)  Follicle No. (L)  Follicle No. (R)  \\\n",
       "0                    80                 3                 3   \n",
       "1                    70                 3                 5   \n",
       "2                    80                13                15   \n",
       "3                    70                 2                 2   \n",
       "4                    80                 3                 4   \n",
       "\n",
       "   Avg. F size (L) (mm)  Avg. F size (R) (mm)  Endometrium (mm)  Unnamed: 42  \n",
       "0                  18.0                  18.0               8.5          NaN  \n",
       "1                  15.0                  14.0               3.7          NaN  \n",
       "2                  18.0                  20.0              10.0          NaN  \n",
       "3                  15.0                  14.0               7.5          NaN  \n",
       "4                  16.0                  14.0               7.0          NaN  \n",
       "\n",
       "[5 rows x 43 columns]"
      ]
     },
     "execution_count": 18,
     "metadata": {},
     "output_type": "execute_result"
    }
   ],
   "source": [
    "df.head()"
   ]
  },
  {
   "cell_type": "code",
   "execution_count": 19,
   "id": "6bbbb9ff",
   "metadata": {},
   "outputs": [
    {
     "data": {
      "text/plain": [
       "PCOS (Y/N)                  0\n",
       "Age (yrs)                   0\n",
       "Weight (Kg)                 0\n",
       "Height(Cm)                  0\n",
       "BMI                       299\n",
       "Blood Group                 0\n",
       "Pulse rate(bpm)             0\n",
       "RR (breaths/min)            0\n",
       "Hb(g/dl)                    0\n",
       "Cycle(R/I)                  0\n",
       "Cycle length(days)          0\n",
       "Marraige Status (Yrs)       1\n",
       "Pregnant(Y/N)               0\n",
       "No. of aborptions           0\n",
       "I   beta-HCG(mIU/mL)        0\n",
       "II    beta-HCG(mIU/mL)      1\n",
       "FSH(mIU/mL)                 0\n",
       "LH(mIU/mL)                  0\n",
       "FSH/LH                    532\n",
       "Hip(inch)                   0\n",
       "Waist(inch)                 0\n",
       "Waist:Hip Ratio           532\n",
       "TSH (mIU/L)                 0\n",
       "AMH(ng/mL)                  1\n",
       "PRL(ng/mL)                  0\n",
       "Vit D3 (ng/mL)              0\n",
       "PRG(ng/mL)                  0\n",
       "RBS(mg/dl)                  0\n",
       "Weight gain(Y/N)            0\n",
       "hair growth(Y/N)            0\n",
       "Skin darkening (Y/N)        0\n",
       "Hair loss(Y/N)              0\n",
       "Pimples(Y/N)                0\n",
       "Fast food (Y/N)             1\n",
       "Reg.Exercise(Y/N)           0\n",
       "BP _Systolic (mmHg)         0\n",
       "BP _Diastolic (mmHg)        0\n",
       "Follicle No. (L)            0\n",
       "Follicle No. (R)            0\n",
       "Avg. F size (L) (mm)        0\n",
       "Avg. F size (R) (mm)        0\n",
       "Endometrium (mm)            0\n",
       "Unnamed: 42               539\n",
       "dtype: int64"
      ]
     },
     "execution_count": 19,
     "metadata": {},
     "output_type": "execute_result"
    }
   ],
   "source": [
    "df.isna().sum()"
   ]
  },
  {
   "cell_type": "code",
   "execution_count": 20,
   "id": "d66db28f",
   "metadata": {},
   "outputs": [],
   "source": [
    "df1 = df.drop(['FSH/LH', 'Waist:Hip Ratio','Unnamed: 42'], axis=1)"
   ]
  },
  {
   "cell_type": "code",
   "execution_count": 21,
   "id": "e8735110",
   "metadata": {},
   "outputs": [
    {
     "data": {
      "text/plain": [
       "array([19.3,  nan, 25.1, 24.7, 24.1, 17.2, 19.7, 21.3, 16.6, 27.2, 22.5,\n",
       "       19.8, 22. , 27.8, 22.4, 19.1, 23.3, 28.6, 21. , 22.2, 25.3, 24.4,\n",
       "       27.1, 25.6, 22.8, 23.4, 21.2, 20.4, 22.9, 24.6, 23.6, 19.2, 26.8,\n",
       "       17.7, 32.8, 34.3, 28.2, 26. , 16. , 24.8, 21.6, 30.9, 23.1, 28.8,\n",
       "       22.3, 29.5, 18.8, 25.2, 25.7, 28.3, 20.8, 30.1, 29. , 23.5, 26.2,\n",
       "       29.3, 15.8, 24. , 26.4, 24.3, 28.1, 24.2, 21.5, 18. , 25.9, 25. ,\n",
       "       17.3, 20. , 21.9, 23.2, 20.3, 27.4, 25.4, 24.5, 27.6, 26.9, 28. ,\n",
       "       22.1, 32. , 27.9, 24.9, 16.9, 15.1, 33.5, 17.6, 21.1, 22.6, 38.9,\n",
       "       23.9, 30.8, 16.5, 35.2, 18.2, 19.4, 26.6, 23.7, 25.5, 25.8, 18.3,\n",
       "       18.1, 26.5, 22.7, 32.5, 26.7, 19.6, 20.5, 30.7, 18.5])"
      ]
     },
     "execution_count": 21,
     "metadata": {},
     "output_type": "execute_result"
    }
   ],
   "source": [
    "df1['BMI'].unique()"
   ]
  },
  {
   "cell_type": "code",
   "execution_count": 22,
   "id": "f25fc7b3",
   "metadata": {},
   "outputs": [
    {
     "data": {
      "text/plain": [
       "24.0"
      ]
     },
     "execution_count": 22,
     "metadata": {},
     "output_type": "execute_result"
    }
   ],
   "source": [
    "median_bmi = df1['BMI'].median()\n",
    "median_bmi"
   ]
  },
  {
   "cell_type": "code",
   "execution_count": 23,
   "id": "271899e2",
   "metadata": {},
   "outputs": [],
   "source": [
    "df1['BMI'] = df1['BMI'].fillna(median_bmi)"
   ]
  },
  {
   "cell_type": "code",
   "execution_count": 24,
   "id": "6023c3aa",
   "metadata": {},
   "outputs": [
    {
     "data": {
      "text/plain": [
       "array([19.3, 24. , 25.1, 24.7, 24.1, 17.2, 19.7, 21.3, 16.6, 27.2, 22.5,\n",
       "       19.8, 22. , 27.8, 22.4, 19.1, 23.3, 28.6, 21. , 22.2, 25.3, 24.4,\n",
       "       27.1, 25.6, 22.8, 23.4, 21.2, 20.4, 22.9, 24.6, 23.6, 19.2, 26.8,\n",
       "       17.7, 32.8, 34.3, 28.2, 26. , 16. , 24.8, 21.6, 30.9, 23.1, 28.8,\n",
       "       22.3, 29.5, 18.8, 25.2, 25.7, 28.3, 20.8, 30.1, 29. , 23.5, 26.2,\n",
       "       29.3, 15.8, 26.4, 24.3, 28.1, 24.2, 21.5, 18. , 25.9, 25. , 17.3,\n",
       "       20. , 21.9, 23.2, 20.3, 27.4, 25.4, 24.5, 27.6, 26.9, 28. , 22.1,\n",
       "       32. , 27.9, 24.9, 16.9, 15.1, 33.5, 17.6, 21.1, 22.6, 38.9, 23.9,\n",
       "       30.8, 16.5, 35.2, 18.2, 19.4, 26.6, 23.7, 25.5, 25.8, 18.3, 18.1,\n",
       "       26.5, 22.7, 32.5, 26.7, 19.6, 20.5, 30.7, 18.5])"
      ]
     },
     "execution_count": 24,
     "metadata": {},
     "output_type": "execute_result"
    }
   ],
   "source": [
    "df1['BMI'].unique()"
   ]
  },
  {
   "cell_type": "code",
   "execution_count": 25,
   "id": "bc574165",
   "metadata": {},
   "outputs": [
    {
     "data": {
      "text/plain": [
       "array([ 7. , 11. , 10. ,  4. ,  1. ,  8. ,  2. , 13. ,  3. , 15. ,  9. ,\n",
       "       20. ,  6. , 12. ,  5. ,  3.5, 17. ,  2.5,  1.5, 16. , 18. ,  0. ,\n",
       "       22. , 19. , 14. ,  4.5, 30. ,  6.5,  8.5, 25. ,  7.5, 24. , 23. ,\n",
       "        2.2,  nan])"
      ]
     },
     "execution_count": 25,
     "metadata": {},
     "output_type": "execute_result"
    }
   ],
   "source": [
    "df1['Marraige Status (Yrs)'].unique()"
   ]
  },
  {
   "cell_type": "code",
   "execution_count": 33,
   "id": "6cc79a85",
   "metadata": {},
   "outputs": [
    {
     "data": {
      "text/plain": [
       "PCOS (Y/N)                0\n",
       "Age (yrs)                 0\n",
       "Weight (Kg)               0\n",
       "Height(Cm)                0\n",
       "BMI                       0\n",
       "Blood Group               0\n",
       "Pulse rate(bpm)           0\n",
       "RR (breaths/min)          0\n",
       "Hb(g/dl)                  0\n",
       "Cycle(R/I)                0\n",
       "Cycle length(days)        0\n",
       "Marraige Status (Yrs)     1\n",
       "Pregnant(Y/N)             0\n",
       "No. of aborptions         0\n",
       "I   beta-HCG(mIU/mL)      0\n",
       "II    beta-HCG(mIU/mL)    1\n",
       "FSH(mIU/mL)               0\n",
       "LH(mIU/mL)                0\n",
       "Hip(inch)                 0\n",
       "Waist(inch)               0\n",
       "TSH (mIU/L)               0\n",
       "AMH(ng/mL)                1\n",
       "PRL(ng/mL)                0\n",
       "Vit D3 (ng/mL)            0\n",
       "PRG(ng/mL)                0\n",
       "RBS(mg/dl)                0\n",
       "Weight gain(Y/N)          0\n",
       "hair growth(Y/N)          0\n",
       "Skin darkening (Y/N)      0\n",
       "Hair loss(Y/N)            0\n",
       "Pimples(Y/N)              0\n",
       "Fast food (Y/N)           1\n",
       "Reg.Exercise(Y/N)         0\n",
       "BP _Systolic (mmHg)       0\n",
       "BP _Diastolic (mmHg)      0\n",
       "Follicle No. (L)          0\n",
       "Follicle No. (R)          0\n",
       "Avg. F size (L) (mm)      0\n",
       "Avg. F size (R) (mm)      0\n",
       "Endometrium (mm)          0\n",
       "dtype: int64"
      ]
     },
     "execution_count": 33,
     "metadata": {},
     "output_type": "execute_result"
    }
   ],
   "source": [
    "df1.isna().sum()"
   ]
  },
  {
   "cell_type": "code",
   "execution_count": 34,
   "id": "81288a43",
   "metadata": {},
   "outputs": [
    {
     "name": "stdout",
     "output_type": "stream",
     "text": [
      "<class 'pandas.core.frame.DataFrame'>\n",
      "RangeIndex: 541 entries, 0 to 540\n",
      "Data columns (total 40 columns):\n",
      " #   Column                  Non-Null Count  Dtype  \n",
      "---  ------                  --------------  -----  \n",
      " 0   PCOS (Y/N)              541 non-null    int64  \n",
      " 1   Age (yrs)               541 non-null    int64  \n",
      " 2   Weight (Kg)             541 non-null    float64\n",
      " 3   Height(Cm)              541 non-null    float64\n",
      " 4   BMI                     541 non-null    float64\n",
      " 5   Blood Group             541 non-null    int64  \n",
      " 6   Pulse rate(bpm)         541 non-null    int64  \n",
      " 7   RR (breaths/min)        541 non-null    int64  \n",
      " 8   Hb(g/dl)                541 non-null    float64\n",
      " 9   Cycle(R/I)              541 non-null    int64  \n",
      " 10  Cycle length(days)      541 non-null    int64  \n",
      " 11  Marraige Status (Yrs)   540 non-null    float64\n",
      " 12  Pregnant(Y/N)           541 non-null    int64  \n",
      " 13  No. of aborptions       541 non-null    int64  \n",
      " 14  I   beta-HCG(mIU/mL)    541 non-null    float64\n",
      " 15  II    beta-HCG(mIU/mL)  540 non-null    float64\n",
      " 16  FSH(mIU/mL)             541 non-null    float64\n",
      " 17  LH(mIU/mL)              541 non-null    float64\n",
      " 18  Hip(inch)               541 non-null    int64  \n",
      " 19  Waist(inch)             541 non-null    int64  \n",
      " 20  TSH (mIU/L)             541 non-null    float64\n",
      " 21  AMH(ng/mL)              540 non-null    float64\n",
      " 22  PRL(ng/mL)              541 non-null    float64\n",
      " 23  Vit D3 (ng/mL)          541 non-null    float64\n",
      " 24  PRG(ng/mL)              541 non-null    float64\n",
      " 25  RBS(mg/dl)              541 non-null    float64\n",
      " 26  Weight gain(Y/N)        541 non-null    int64  \n",
      " 27  hair growth(Y/N)        541 non-null    int64  \n",
      " 28  Skin darkening (Y/N)    541 non-null    int64  \n",
      " 29  Hair loss(Y/N)          541 non-null    int64  \n",
      " 30  Pimples(Y/N)            541 non-null    int64  \n",
      " 31  Fast food (Y/N)         540 non-null    float64\n",
      " 32  Reg.Exercise(Y/N)       541 non-null    int64  \n",
      " 33  BP _Systolic (mmHg)     541 non-null    int64  \n",
      " 34  BP _Diastolic (mmHg)    541 non-null    int64  \n",
      " 35  Follicle No. (L)        541 non-null    int64  \n",
      " 36  Follicle No. (R)        541 non-null    int64  \n",
      " 37  Avg. F size (L) (mm)    541 non-null    float64\n",
      " 38  Avg. F size (R) (mm)    541 non-null    float64\n",
      " 39  Endometrium (mm)        541 non-null    float64\n",
      "dtypes: float64(19), int64(21)\n",
      "memory usage: 169.2 KB\n"
     ]
    }
   ],
   "source": [
    "df1.info()"
   ]
  },
  {
   "cell_type": "code",
   "execution_count": 35,
   "id": "2f095e8e",
   "metadata": {},
   "outputs": [],
   "source": [
    "df2 = df1.dropna(axis=0)"
   ]
  },
  {
   "cell_type": "code",
   "execution_count": 37,
   "id": "fcf3d55a",
   "metadata": {},
   "outputs": [
    {
     "data": {
      "text/plain": [
       "PCOS (Y/N)                0\n",
       "Age (yrs)                 0\n",
       "Weight (Kg)               0\n",
       "Height(Cm)                0\n",
       "BMI                       0\n",
       "Blood Group               0\n",
       "Pulse rate(bpm)           0\n",
       "RR (breaths/min)          0\n",
       "Hb(g/dl)                  0\n",
       "Cycle(R/I)                0\n",
       "Cycle length(days)        0\n",
       "Marraige Status (Yrs)     0\n",
       "Pregnant(Y/N)             0\n",
       "No. of aborptions         0\n",
       "I   beta-HCG(mIU/mL)      0\n",
       "II    beta-HCG(mIU/mL)    0\n",
       "FSH(mIU/mL)               0\n",
       "LH(mIU/mL)                0\n",
       "Hip(inch)                 0\n",
       "Waist(inch)               0\n",
       "TSH (mIU/L)               0\n",
       "AMH(ng/mL)                0\n",
       "PRL(ng/mL)                0\n",
       "Vit D3 (ng/mL)            0\n",
       "PRG(ng/mL)                0\n",
       "RBS(mg/dl)                0\n",
       "Weight gain(Y/N)          0\n",
       "hair growth(Y/N)          0\n",
       "Skin darkening (Y/N)      0\n",
       "Hair loss(Y/N)            0\n",
       "Pimples(Y/N)              0\n",
       "Fast food (Y/N)           0\n",
       "Reg.Exercise(Y/N)         0\n",
       "BP _Systolic (mmHg)       0\n",
       "BP _Diastolic (mmHg)      0\n",
       "Follicle No. (L)          0\n",
       "Follicle No. (R)          0\n",
       "Avg. F size (L) (mm)      0\n",
       "Avg. F size (R) (mm)      0\n",
       "Endometrium (mm)          0\n",
       "dtype: int64"
      ]
     },
     "execution_count": 37,
     "metadata": {},
     "output_type": "execute_result"
    }
   ],
   "source": [
    "df2.isna().sum()"
   ]
  },
  {
   "cell_type": "code",
   "execution_count": 38,
   "id": "2bfe41c1",
   "metadata": {},
   "outputs": [
    {
     "data": {
      "text/plain": [
       "0    362\n",
       "1    175\n",
       "Name: PCOS (Y/N), dtype: int64"
      ]
     },
     "execution_count": 38,
     "metadata": {},
     "output_type": "execute_result"
    }
   ],
   "source": [
    "X = df2.iloc[:,1:39]\n",
    "y = df2.iloc[:,0]\n",
    "y.value_counts()"
   ]
  },
  {
   "cell_type": "code",
   "execution_count": 39,
   "id": "d9f68b31",
   "metadata": {},
   "outputs": [
    {
     "name": "stdout",
     "output_type": "stream",
     "text": [
      "                         X        Score\n",
      "22          Vit D3 (ng/mL)  9600.594045\n",
      "13    I   beta-HCG(mIU/mL)  6899.358709\n",
      "16              LH(mIU/mL)  2572.753526\n",
      "15             FSH(mIU/mL)  1592.273459\n",
      "14  II    beta-HCG(mIU/mL)  1012.628577\n",
      "35        Follicle No. (R)   673.143812\n",
      "34        Follicle No. (L)   564.595226\n",
      "20              AMH(ng/mL)   221.815736\n",
      "27    Skin darkening (Y/N)    85.664994\n",
      "26        hair growth(Y/N)    84.038102\n"
     ]
    }
   ],
   "source": [
    "from sklearn.feature_selection import SelectKBest\n",
    "from sklearn.feature_selection import chi2\n",
    "bestfeature = SelectKBest(score_func=chi2, k=5)\n",
    "fit = bestfeature.fit(X,y)\n",
    "dfscores = pd.DataFrame(fit.scores_)\n",
    "dfcolumns = pd.DataFrame(X.columns)\n",
    "featureScores = pd.concat([dfcolumns,dfscores], axis=1)\n",
    "featureScores.columns = ['X', 'Score']\n",
    "print(featureScores.nlargest(10,'Score'))"
   ]
  },
  {
   "cell_type": "code",
   "execution_count": 40,
   "id": "c8511c6d",
   "metadata": {},
   "outputs": [],
   "source": [
    "df3 = df2.drop(['Pulse rate(bpm)', 'RR (breaths/min)','Pregnant(Y/N)','No. of aborptions','I   beta-HCG(mIU/mL)','II    beta-HCG(mIU/mL)','TSH (mIU/L)','PRL(ng/mL)','BP _Systolic (mmHg)','BP _Diastolic (mmHg)'], axis=1)"
   ]
  },
  {
   "cell_type": "code",
   "execution_count": 41,
   "id": "751c66f8",
   "metadata": {},
   "outputs": [
    {
     "name": "stdout",
     "output_type": "stream",
     "text": [
      "<class 'pandas.core.frame.DataFrame'>\n",
      "Int64Index: 537 entries, 0 to 540\n",
      "Data columns (total 30 columns):\n",
      " #   Column                 Non-Null Count  Dtype  \n",
      "---  ------                 --------------  -----  \n",
      " 0   PCOS (Y/N)             537 non-null    int64  \n",
      " 1   Age (yrs)              537 non-null    int64  \n",
      " 2   Weight (Kg)            537 non-null    float64\n",
      " 3   Height(Cm)             537 non-null    float64\n",
      " 4   BMI                    537 non-null    float64\n",
      " 5   Blood Group            537 non-null    int64  \n",
      " 6   Hb(g/dl)               537 non-null    float64\n",
      " 7   Cycle(R/I)             537 non-null    int64  \n",
      " 8   Cycle length(days)     537 non-null    int64  \n",
      " 9   Marraige Status (Yrs)  537 non-null    float64\n",
      " 10  FSH(mIU/mL)            537 non-null    float64\n",
      " 11  LH(mIU/mL)             537 non-null    float64\n",
      " 12  Hip(inch)              537 non-null    int64  \n",
      " 13  Waist(inch)            537 non-null    int64  \n",
      " 14  AMH(ng/mL)             537 non-null    float64\n",
      " 15  Vit D3 (ng/mL)         537 non-null    float64\n",
      " 16  PRG(ng/mL)             537 non-null    float64\n",
      " 17  RBS(mg/dl)             537 non-null    float64\n",
      " 18  Weight gain(Y/N)       537 non-null    int64  \n",
      " 19  hair growth(Y/N)       537 non-null    int64  \n",
      " 20  Skin darkening (Y/N)   537 non-null    int64  \n",
      " 21  Hair loss(Y/N)         537 non-null    int64  \n",
      " 22  Pimples(Y/N)           537 non-null    int64  \n",
      " 23  Fast food (Y/N)        537 non-null    float64\n",
      " 24  Reg.Exercise(Y/N)      537 non-null    int64  \n",
      " 25  Follicle No. (L)       537 non-null    int64  \n",
      " 26  Follicle No. (R)       537 non-null    int64  \n",
      " 27  Avg. F size (L) (mm)   537 non-null    float64\n",
      " 28  Avg. F size (R) (mm)   537 non-null    float64\n",
      " 29  Endometrium (mm)       537 non-null    float64\n",
      "dtypes: float64(15), int64(15)\n",
      "memory usage: 130.1 KB\n"
     ]
    }
   ],
   "source": [
    "df3.info()"
   ]
  },
  {
   "cell_type": "code",
   "execution_count": 43,
   "id": "333eade4",
   "metadata": {},
   "outputs": [],
   "source": [
    "X = df3.iloc[:, 1:]\n",
    "y = df3.iloc[:, 0]"
   ]
  },
  {
   "cell_type": "code",
   "execution_count": 44,
   "id": "a26c018e",
   "metadata": {},
   "outputs": [],
   "source": [
    "# Split the dataset into training and testing sets\n",
    "X_train, X_test, y_train, y_test = train_test_split(X, y, test_size=0.3, random_state=0)"
   ]
  },
  {
   "cell_type": "code",
   "execution_count": 45,
   "id": "ca071c13",
   "metadata": {},
   "outputs": [],
   "source": [
    "# Create an instance of the Logistic Regression model\n",
    "logreg = LogisticRegression()"
   ]
  },
  {
   "cell_type": "code",
   "execution_count": 46,
   "id": "dcfb6c6c",
   "metadata": {},
   "outputs": [
    {
     "name": "stderr",
     "output_type": "stream",
     "text": [
      "C:\\Users\\HP\\kuliah_machinelearning\\project_pertama\\venv\\lib\\site-packages\\sklearn\\linear_model\\_logistic.py:458: ConvergenceWarning: lbfgs failed to converge (status=1):\n",
      "STOP: TOTAL NO. of ITERATIONS REACHED LIMIT.\n",
      "\n",
      "Increase the number of iterations (max_iter) or scale the data as shown in:\n",
      "    https://scikit-learn.org/stable/modules/preprocessing.html\n",
      "Please also refer to the documentation for alternative solver options:\n",
      "    https://scikit-learn.org/stable/modules/linear_model.html#logistic-regression\n",
      "  n_iter_i = _check_optimize_result(\n"
     ]
    },
    {
     "data": {
      "text/html": [
       "<style>#sk-container-id-1 {color: black;background-color: white;}#sk-container-id-1 pre{padding: 0;}#sk-container-id-1 div.sk-toggleable {background-color: white;}#sk-container-id-1 label.sk-toggleable__label {cursor: pointer;display: block;width: 100%;margin-bottom: 0;padding: 0.3em;box-sizing: border-box;text-align: center;}#sk-container-id-1 label.sk-toggleable__label-arrow:before {content: \"▸\";float: left;margin-right: 0.25em;color: #696969;}#sk-container-id-1 label.sk-toggleable__label-arrow:hover:before {color: black;}#sk-container-id-1 div.sk-estimator:hover label.sk-toggleable__label-arrow:before {color: black;}#sk-container-id-1 div.sk-toggleable__content {max-height: 0;max-width: 0;overflow: hidden;text-align: left;background-color: #f0f8ff;}#sk-container-id-1 div.sk-toggleable__content pre {margin: 0.2em;color: black;border-radius: 0.25em;background-color: #f0f8ff;}#sk-container-id-1 input.sk-toggleable__control:checked~div.sk-toggleable__content {max-height: 200px;max-width: 100%;overflow: auto;}#sk-container-id-1 input.sk-toggleable__control:checked~label.sk-toggleable__label-arrow:before {content: \"▾\";}#sk-container-id-1 div.sk-estimator input.sk-toggleable__control:checked~label.sk-toggleable__label {background-color: #d4ebff;}#sk-container-id-1 div.sk-label input.sk-toggleable__control:checked~label.sk-toggleable__label {background-color: #d4ebff;}#sk-container-id-1 input.sk-hidden--visually {border: 0;clip: rect(1px 1px 1px 1px);clip: rect(1px, 1px, 1px, 1px);height: 1px;margin: -1px;overflow: hidden;padding: 0;position: absolute;width: 1px;}#sk-container-id-1 div.sk-estimator {font-family: monospace;background-color: #f0f8ff;border: 1px dotted black;border-radius: 0.25em;box-sizing: border-box;margin-bottom: 0.5em;}#sk-container-id-1 div.sk-estimator:hover {background-color: #d4ebff;}#sk-container-id-1 div.sk-parallel-item::after {content: \"\";width: 100%;border-bottom: 1px solid gray;flex-grow: 1;}#sk-container-id-1 div.sk-label:hover label.sk-toggleable__label {background-color: #d4ebff;}#sk-container-id-1 div.sk-serial::before {content: \"\";position: absolute;border-left: 1px solid gray;box-sizing: border-box;top: 0;bottom: 0;left: 50%;z-index: 0;}#sk-container-id-1 div.sk-serial {display: flex;flex-direction: column;align-items: center;background-color: white;padding-right: 0.2em;padding-left: 0.2em;position: relative;}#sk-container-id-1 div.sk-item {position: relative;z-index: 1;}#sk-container-id-1 div.sk-parallel {display: flex;align-items: stretch;justify-content: center;background-color: white;position: relative;}#sk-container-id-1 div.sk-item::before, #sk-container-id-1 div.sk-parallel-item::before {content: \"\";position: absolute;border-left: 1px solid gray;box-sizing: border-box;top: 0;bottom: 0;left: 50%;z-index: -1;}#sk-container-id-1 div.sk-parallel-item {display: flex;flex-direction: column;z-index: 1;position: relative;background-color: white;}#sk-container-id-1 div.sk-parallel-item:first-child::after {align-self: flex-end;width: 50%;}#sk-container-id-1 div.sk-parallel-item:last-child::after {align-self: flex-start;width: 50%;}#sk-container-id-1 div.sk-parallel-item:only-child::after {width: 0;}#sk-container-id-1 div.sk-dashed-wrapped {border: 1px dashed gray;margin: 0 0.4em 0.5em 0.4em;box-sizing: border-box;padding-bottom: 0.4em;background-color: white;}#sk-container-id-1 div.sk-label label {font-family: monospace;font-weight: bold;display: inline-block;line-height: 1.2em;}#sk-container-id-1 div.sk-label-container {text-align: center;}#sk-container-id-1 div.sk-container {/* jupyter's `normalize.less` sets `[hidden] { display: none; }` but bootstrap.min.css set `[hidden] { display: none !important; }` so we also need the `!important` here to be able to override the default hidden behavior on the sphinx rendered scikit-learn.org. See: https://github.com/scikit-learn/scikit-learn/issues/21755 */display: inline-block !important;position: relative;}#sk-container-id-1 div.sk-text-repr-fallback {display: none;}</style><div id=\"sk-container-id-1\" class=\"sk-top-container\"><div class=\"sk-text-repr-fallback\"><pre>LogisticRegression()</pre><b>In a Jupyter environment, please rerun this cell to show the HTML representation or trust the notebook. <br />On GitHub, the HTML representation is unable to render, please try loading this page with nbviewer.org.</b></div><div class=\"sk-container\" hidden><div class=\"sk-item\"><div class=\"sk-estimator sk-toggleable\"><input class=\"sk-toggleable__control sk-hidden--visually\" id=\"sk-estimator-id-1\" type=\"checkbox\" checked><label for=\"sk-estimator-id-1\" class=\"sk-toggleable__label sk-toggleable__label-arrow\">LogisticRegression</label><div class=\"sk-toggleable__content\"><pre>LogisticRegression()</pre></div></div></div></div></div>"
      ],
      "text/plain": [
       "LogisticRegression()"
      ]
     },
     "execution_count": 46,
     "metadata": {},
     "output_type": "execute_result"
    }
   ],
   "source": [
    "# Fit the model on the training data\n",
    "logreg.fit(X_train, y_train)"
   ]
  },
  {
   "cell_type": "code",
   "execution_count": 47,
   "id": "70b24beb",
   "metadata": {},
   "outputs": [],
   "source": [
    "y_pred = logreg.predict(X_test)"
   ]
  },
  {
   "cell_type": "code",
   "execution_count": 48,
   "id": "00417f66",
   "metadata": {},
   "outputs": [
    {
     "name": "stdout",
     "output_type": "stream",
     "text": [
      "Accuracy: 0.8950617283950617\n"
     ]
    }
   ],
   "source": [
    "print(\"Accuracy:\", logreg.score(X_test, y_test))"
   ]
  },
  {
   "cell_type": "code",
   "execution_count": 49,
   "id": "eb7c1456",
   "metadata": {},
   "outputs": [
    {
     "name": "stdout",
     "output_type": "stream",
     "text": [
      "              precision    recall  f1-score   support\n",
      "\n",
      "           0       0.92      0.93      0.92       108\n",
      "           1       0.85      0.83      0.84        54\n",
      "\n",
      "    accuracy                           0.90       162\n",
      "   macro avg       0.88      0.88      0.88       162\n",
      "weighted avg       0.89      0.90      0.89       162\n",
      "\n"
     ]
    }
   ],
   "source": [
    "from sklearn.metrics import classification_report\n",
    "print(classification_report(y_test, y_pred))"
   ]
  },
  {
   "cell_type": "markdown",
   "id": "a452f2ca",
   "metadata": {},
   "source": [
    "Dari pemodelan menggunakan logistic regression dengan 29 features yang ditentukan oleh tim, di dapatkan akurasi 90%"
   ]
  },
  {
   "cell_type": "code",
   "execution_count": 57,
   "id": "ccea7418",
   "metadata": {},
   "outputs": [
    {
     "name": "stdout",
     "output_type": "stream",
     "text": [
      "ROC AUC score:  0.8796296296296298\n"
     ]
    },
    {
     "ename": "NameError",
     "evalue": "name 'roc' is not defined",
     "output_type": "error",
     "traceback": [
      "\u001b[1;31m---------------------------------------------------------------------------\u001b[0m",
      "\u001b[1;31mNameError\u001b[0m                                 Traceback (most recent call last)",
      "Cell \u001b[1;32mIn[57], line 5\u001b[0m\n\u001b[0;32m      1\u001b[0m \u001b[38;5;28;01mfrom\u001b[39;00m \u001b[38;5;21;01mscikitplot\u001b[39;00m\u001b[38;5;21;01m.\u001b[39;00m\u001b[38;5;21;01mmetrics\u001b[39;00m \u001b[38;5;28;01mimport\u001b[39;00m plot_roc_curve\n\u001b[0;32m      4\u001b[0m \u001b[38;5;28mprint\u001b[39m(\u001b[38;5;124m'\u001b[39m\u001b[38;5;124mROC AUC score: \u001b[39m\u001b[38;5;124m'\u001b[39m, roc_auc_score(y_test, y_pred))\n\u001b[1;32m----> 5\u001b[0m \u001b[43mroc\u001b[49m\u001b[38;5;241m.\u001b[39mappend(roc_auc_score(y_test, y_pred))\n\u001b[0;32m      7\u001b[0m logit_roc_auc \u001b[38;5;241m=\u001b[39m roc_auc_score(y_test, logreg\u001b[38;5;241m.\u001b[39mpredict(X_test))\n\u001b[0;32m      8\u001b[0m fpr, tpr, thresholds \u001b[38;5;241m=\u001b[39m roc_curve(y_test, logreg\u001b[38;5;241m.\u001b[39mpredict_proba(X_test)[:,\u001b[38;5;241m1\u001b[39m])\n",
      "\u001b[1;31mNameError\u001b[0m: name 'roc' is not defined"
     ]
    }
   ],
   "source": [
    "from sklearn.metrics import roc_auc_score\n",
    "from sklearn.metrics import roc_curve\n",
    "\n",
    "print('ROC AUC score: ', roc_auc_score(y_test, y_pred))\n",
    "roc.append(roc_auc_score(y_test, y_pred))\n",
    "\n",
    "logit_roc_auc = roc_auc_score(y_test, logreg.predict(X_test))\n",
    "fpr, tpr, thresholds = roc_curve(y_test, logreg.predict_proba(X_test)[:,1])\n",
    "\n",
    "plt.figure()\n",
    "plt.plot(fpr, tpr, label='Logistic Regression (area = %0.2f)' % logit_roc_auc)\n",
    "plt.plot([0, 1], [0, 1],'r--')\n",
    "plt.xlim([0.0, 1.0])\n",
    "plt.ylim([0.0, 1.05])\n",
    "plt.xlabel('False Positive Rate')\n",
    "plt.ylabel('True Positive Rate')\n",
    "plt.title('Receiver operating characteristic')\n",
    "plt.legend(loc=\"lower right\")\n",
    "plt.savefig('Log_ROC')\n",
    "plt.show()"
   ]
  },
  {
   "cell_type": "code",
   "execution_count": 55,
   "id": "1e86d2ce",
   "metadata": {},
   "outputs": [
    {
     "data": {
      "text/plain": [
       "0    362\n",
       "1    175\n",
       "Name: PCOS (Y/N), dtype: int64"
      ]
     },
     "execution_count": 55,
     "metadata": {},
     "output_type": "execute_result"
    }
   ],
   "source": [
    "A = df2.iloc[:,1:39]\n",
    "b = df2.iloc[:,0]\n",
    "b.value_counts()"
   ]
  },
  {
   "cell_type": "code",
   "execution_count": 52,
   "id": "37b8453b",
   "metadata": {},
   "outputs": [
    {
     "name": "stdout",
     "output_type": "stream",
     "text": [
      "[0.01687088 0.01537332 0.01344939 0.01315327 0.01047231 0.01279839\n",
      " 0.01134122 0.01184012 0.04899759 0.02484242 0.01465146 0.00734894\n",
      " 0.00867298 0.01313135 0.00932857 0.01147365 0.01603715 0.01828157\n",
      " 0.01481432 0.01224043 0.02140903 0.01220596 0.01189856 0.01149128\n",
      " 0.01363803 0.06865525 0.07435303 0.10736165 0.01494077 0.02763252\n",
      " 0.04387627 0.01393239 0.0124145  0.00859089 0.08758536 0.13468105\n",
      " 0.01485633 0.01535781]\n"
     ]
    },
    {
     "data": {
      "image/png": "[encoded data removed]",
      "text/plain": [
       "<Figure size 640x480 with 1 Axes>"
      ]
     },
     "metadata": {},
     "output_type": "display_data"
    }
   ],
   "source": [
    "from sklearn.ensemble import ExtraTreesClassifier\n",
    "import matplotlib.pyplot as plt\n",
    "model = ExtraTreesClassifier()\n",
    "model.fit(A,b)\n",
    "print(model.feature_importances_)\n",
    "feat_importances = pd.Series(model.feature_importances_, index=A.columns)\n",
    "feat_importances.nlargest(20).plot(kind='barh')\n",
    "plt.rcParams[\"figure.figsize\"] = (20,20)\n",
    "plt.show()"
   ]
  },
  {
   "cell_type": "code",
   "execution_count": 58,
   "id": "379e2931",
   "metadata": {},
   "outputs": [],
   "source": [
    "df4 = df2.drop(['Pulse rate(bpm)', 'RR (breaths/min)','Hb(g/dl)','Pregnant(Y/N)','No. of aborptions','Height(Cm)','II    beta-HCG(mIU/mL)','FSH(mIU/mL)','TSH (mIU/L)','PRL(ng/mL)','Vit D3 (ng/mL)','Hair loss(Y/N)','BP _Systolic (mmHg)','BP _Diastolic (mmHg)','Endometrium (mm)','PRG(ng/mL)','RBS(mg/dl)'], axis=1)"
   ]
  },
  {
   "cell_type": "code",
   "execution_count": 59,
   "id": "28785f4c",
   "metadata": {},
   "outputs": [
    {
     "name": "stdout",
     "output_type": "stream",
     "text": [
      "<class 'pandas.core.frame.DataFrame'>\n",
      "Int64Index: 537 entries, 0 to 540\n",
      "Data columns (total 23 columns):\n",
      " #   Column                 Non-Null Count  Dtype  \n",
      "---  ------                 --------------  -----  \n",
      " 0   PCOS (Y/N)             537 non-null    int64  \n",
      " 1   Age (yrs)              537 non-null    int64  \n",
      " 2   Weight (Kg)            537 non-null    float64\n",
      " 3   BMI                    537 non-null    float64\n",
      " 4   Blood Group            537 non-null    int64  \n",
      " 5   Cycle(R/I)             537 non-null    int64  \n",
      " 6   Cycle length(days)     537 non-null    int64  \n",
      " 7   Marraige Status (Yrs)  537 non-null    float64\n",
      " 8   I   beta-HCG(mIU/mL)   537 non-null    float64\n",
      " 9   LH(mIU/mL)             537 non-null    float64\n",
      " 10  Hip(inch)              537 non-null    int64  \n",
      " 11  Waist(inch)            537 non-null    int64  \n",
      " 12  AMH(ng/mL)             537 non-null    float64\n",
      " 13  Weight gain(Y/N)       537 non-null    int64  \n",
      " 14  hair growth(Y/N)       537 non-null    int64  \n",
      " 15  Skin darkening (Y/N)   537 non-null    int64  \n",
      " 16  Pimples(Y/N)           537 non-null    int64  \n",
      " 17  Fast food (Y/N)        537 non-null    float64\n",
      " 18  Reg.Exercise(Y/N)      537 non-null    int64  \n",
      " 19  Follicle No. (L)       537 non-null    int64  \n",
      " 20  Follicle No. (R)       537 non-null    int64  \n",
      " 21  Avg. F size (L) (mm)   537 non-null    float64\n",
      " 22  Avg. F size (R) (mm)   537 non-null    float64\n",
      "dtypes: float64(9), int64(14)\n",
      "memory usage: 100.7 KB\n"
     ]
    }
   ],
   "source": [
    "df4.info()"
   ]
  },
  {
   "cell_type": "code",
   "execution_count": 60,
   "id": "08e54980",
   "metadata": {},
   "outputs": [],
   "source": [
    "d = df4.iloc[:, 0]\n",
    "C = df4.iloc[:, 1:]"
   ]
  },
  {
   "cell_type": "code",
   "execution_count": 61,
   "id": "9985101e",
   "metadata": {},
   "outputs": [],
   "source": [
    "# Split the dataset into training and testing sets\n",
    "C_train, C_test, d_train, d_test = train_test_split(C, d, test_size=0.3, random_state=0)\n"
   ]
  },
  {
   "cell_type": "code",
   "execution_count": 62,
   "id": "dce56618",
   "metadata": {},
   "outputs": [
    {
     "name": "stderr",
     "output_type": "stream",
     "text": [
      "C:\\Users\\HP\\kuliah_machinelearning\\project_pertama\\venv\\lib\\site-packages\\sklearn\\linear_model\\_logistic.py:458: ConvergenceWarning: lbfgs failed to converge (status=1):\n",
      "STOP: TOTAL NO. of ITERATIONS REACHED LIMIT.\n",
      "\n",
      "Increase the number of iterations (max_iter) or scale the data as shown in:\n",
      "    https://scikit-learn.org/stable/modules/preprocessing.html\n",
      "Please also refer to the documentation for alternative solver options:\n",
      "    https://scikit-learn.org/stable/modules/linear_model.html#logistic-regression\n",
      "  n_iter_i = _check_optimize_result(\n"
     ]
    },
    {
     "data": {
      "text/html": [
       "<style>#sk-container-id-2 {color: black;background-color: white;}#sk-container-id-2 pre{padding: 0;}#sk-container-id-2 div.sk-toggleable {background-color: white;}#sk-container-id-2 label.sk-toggleable__label {cursor: pointer;display: block;width: 100%;margin-bottom: 0;padding: 0.3em;box-sizing: border-box;text-align: center;}#sk-container-id-2 label.sk-toggleable__label-arrow:before {content: \"▸\";float: left;margin-right: 0.25em;color: #696969;}#sk-container-id-2 label.sk-toggleable__label-arrow:hover:before {color: black;}#sk-container-id-2 div.sk-estimator:hover label.sk-toggleable__label-arrow:before {color: black;}#sk-container-id-2 div.sk-toggleable__content {max-height: 0;max-width: 0;overflow: hidden;text-align: left;background-color: #f0f8ff;}#sk-container-id-2 div.sk-toggleable__content pre {margin: 0.2em;color: black;border-radius: 0.25em;background-color: #f0f8ff;}#sk-container-id-2 input.sk-toggleable__control:checked~div.sk-toggleable__content {max-height: 200px;max-width: 100%;overflow: auto;}#sk-container-id-2 input.sk-toggleable__control:checked~label.sk-toggleable__label-arrow:before {content: \"▾\";}#sk-container-id-2 div.sk-estimator input.sk-toggleable__control:checked~label.sk-toggleable__label {background-color: #d4ebff;}#sk-container-id-2 div.sk-label input.sk-toggleable__control:checked~label.sk-toggleable__label {background-color: #d4ebff;}#sk-container-id-2 input.sk-hidden--visually {border: 0;clip: rect(1px 1px 1px 1px);clip: rect(1px, 1px, 1px, 1px);height: 1px;margin: -1px;overflow: hidden;padding: 0;position: absolute;width: 1px;}#sk-container-id-2 div.sk-estimator {font-family: monospace;background-color: #f0f8ff;border: 1px dotted black;border-radius: 0.25em;box-sizing: border-box;margin-bottom: 0.5em;}#sk-container-id-2 div.sk-estimator:hover {background-color: #d4ebff;}#sk-container-id-2 div.sk-parallel-item::after {content: \"\";width: 100%;border-bottom: 1px solid gray;flex-grow: 1;}#sk-container-id-2 div.sk-label:hover label.sk-toggleable__label {background-color: #d4ebff;}#sk-container-id-2 div.sk-serial::before {content: \"\";position: absolute;border-left: 1px solid gray;box-sizing: border-box;top: 0;bottom: 0;left: 50%;z-index: 0;}#sk-container-id-2 div.sk-serial {display: flex;flex-direction: column;align-items: center;background-color: white;padding-right: 0.2em;padding-left: 0.2em;position: relative;}#sk-container-id-2 div.sk-item {position: relative;z-index: 1;}#sk-container-id-2 div.sk-parallel {display: flex;align-items: stretch;justify-content: center;background-color: white;position: relative;}#sk-container-id-2 div.sk-item::before, #sk-container-id-2 div.sk-parallel-item::before {content: \"\";position: absolute;border-left: 1px solid gray;box-sizing: border-box;top: 0;bottom: 0;left: 50%;z-index: -1;}#sk-container-id-2 div.sk-parallel-item {display: flex;flex-direction: column;z-index: 1;position: relative;background-color: white;}#sk-container-id-2 div.sk-parallel-item:first-child::after {align-self: flex-end;width: 50%;}#sk-container-id-2 div.sk-parallel-item:last-child::after {align-self: flex-start;width: 50%;}#sk-container-id-2 div.sk-parallel-item:only-child::after {width: 0;}#sk-container-id-2 div.sk-dashed-wrapped {border: 1px dashed gray;margin: 0 0.4em 0.5em 0.4em;box-sizing: border-box;padding-bottom: 0.4em;background-color: white;}#sk-container-id-2 div.sk-label label {font-family: monospace;font-weight: bold;display: inline-block;line-height: 1.2em;}#sk-container-id-2 div.sk-label-container {text-align: center;}#sk-container-id-2 div.sk-container {/* jupyter's `normalize.less` sets `[hidden] { display: none; }` but bootstrap.min.css set `[hidden] { display: none !important; }` so we also need the `!important` here to be able to override the default hidden behavior on the sphinx rendered scikit-learn.org. See: https://github.com/scikit-learn/scikit-learn/issues/21755 */display: inline-block !important;position: relative;}#sk-container-id-2 div.sk-text-repr-fallback {display: none;}</style><div id=\"sk-container-id-2\" class=\"sk-top-container\"><div class=\"sk-text-repr-fallback\"><pre>LogisticRegression()</pre><b>In a Jupyter environment, please rerun this cell to show the HTML representation or trust the notebook. <br />On GitHub, the HTML representation is unable to render, please try loading this page with nbviewer.org.</b></div><div class=\"sk-container\" hidden><div class=\"sk-item\"><div class=\"sk-estimator sk-toggleable\"><input class=\"sk-toggleable__control sk-hidden--visually\" id=\"sk-estimator-id-2\" type=\"checkbox\" checked><label for=\"sk-estimator-id-2\" class=\"sk-toggleable__label sk-toggleable__label-arrow\">LogisticRegression</label><div class=\"sk-toggleable__content\"><pre>LogisticRegression()</pre></div></div></div></div></div>"
      ],
      "text/plain": [
       "LogisticRegression()"
      ]
     },
     "execution_count": 62,
     "metadata": {},
     "output_type": "execute_result"
    }
   ],
   "source": [
    "logreg.fit(C_train, d_train)"
   ]
  },
  {
   "cell_type": "code",
   "execution_count": 63,
   "id": "9ba0c95a",
   "metadata": {},
   "outputs": [
    {
     "data": {
      "image/png": "[encoded data removed]",
      "text/plain": [
       "<Figure size 2000x2000 with 1 Axes>"
      ]
     },
     "metadata": {},
     "output_type": "display_data"
    }
   ],
   "source": [
    "# Generate random data\n",
    "C, d = make_classification(n_samples=100, n_features=2, n_redundant=0, n_informative=1,\n",
    "                             n_clusters_per_class=1, random_state=14)\n",
    "\n",
    "# Fit logistic regression model\n",
    "clf = LogisticRegression(random_state=0).fit(C, d)\n",
    "\n",
    "# Define meshgrid for plotting decision boundary\n",
    "h = 0.02\n",
    "x_min, x_max = C[:, 0].min() - .5, C[:, 0].max() + .5\n",
    "y_min, y_max = C[:, 1].min() - .5, C[:, 1].max() + .5\n",
    "xx, yy = np.meshgrid(np.arange(x_min, x_max, h), np.arange(y_min, y_max, h))\n",
    "\n",
    "# Predict class for each point in meshgrid\n",
    "Z = clf.predict(np.c_[xx.ravel(), yy.ravel()])\n",
    "Z = Z.reshape(xx.shape)\n",
    "\n",
    "# Plot decision boundary and scatter plot of data points\n",
    "plt.contourf(xx, yy, Z, cmap=plt.cm.Paired)\n",
    "plt.scatter(C[:, 0], C[:, 1], c=d, edgecolors='k', cmap=plt.cm.Paired)\n",
    "\n",
    "plt.xlabel('Feature 1')\n",
    "plt.ylabel('Feature 2')\n",
    "plt.xlim(xx.min(), xx.max())\n",
    "plt.ylim(yy.min(), yy.max())\n",
    "plt.xticks(())\n",
    "plt.yticks(())\n",
    "\n",
    "plt.show()"
   ]
  },
  {
   "cell_type": "code",
   "execution_count": null,
   "id": "dcd6697d",
   "metadata": {},
   "outputs": [],
   "source": []
  }
 ],
 "metadata": {
  "kernelspec": {
   "display_name": "virtual_environment",
   "language": "python",
   "name": "virtual_environment"
  },
  "language_info": {
   "codemirror_mode": {
    "name": "ipython",
    "version": 3
   },
   "file_extension": ".py",
   "mimetype": "text/x-python",
   "name": "python",
   "nbconvert_exporter": "python",
   "pygments_lexer": "ipython3",
   "version": "3.9.13"
  }
 },
 "nbformat": 4,
 "nbformat_minor": 5
}
